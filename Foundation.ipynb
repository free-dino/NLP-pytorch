{
  "nbformat": 4,
  "nbformat_minor": 0,
  "metadata": {
    "colab": {
      "provenance": [],
      "authorship_tag": "ABX9TyPXTk4Fguxhc6oRcMhMm6Bk",
      "include_colab_link": true
    },
    "kernelspec": {
      "name": "python3",
      "display_name": "Python 3"
    },
    "language_info": {
      "name": "python"
    }
  },
  "cells": [
    {
      "cell_type": "markdown",
      "metadata": {
        "id": "view-in-github",
        "colab_type": "text"
      },
      "source": [
        "<a href=\"https://colab.research.google.com/github/free-dino/NLP-pytorch/blob/main/Foundation.ipynb\" target=\"_parent\"><img src=\"https://colab.research.google.com/assets/colab-badge.svg\" alt=\"Open In Colab\"/></a>"
      ]
    },
    {
      "cell_type": "code",
      "execution_count": 1,
      "metadata": {
        "id": "76GgygeF0cgN"
      },
      "outputs": [],
      "source": [
        "import torch\n",
        "import torch.nn as nn"
      ]
    },
    {
      "cell_type": "markdown",
      "source": [
        "# Perceptron"
      ],
      "metadata": {
        "id": "N08CJ-rG8UkW"
      }
    },
    {
      "cell_type": "code",
      "source": [
        "class Perceptron(nn.Module):\n",
        "    def __init__(self, input_dim):\n",
        "        super(Perceptron, self).__init__()\n",
        "        self.fc1 = nn.Linear(input_dim, 1)\n",
        "\n",
        "    def forward(self, x):\n",
        "        return torch.sigmoid(self.fc1(x)).squeeze()"
      ],
      "metadata": {
        "id": "bB5fbGwi0j3R"
      },
      "execution_count": 55,
      "outputs": []
    },
    {
      "cell_type": "code",
      "source": [
        "import torchsummary"
      ],
      "metadata": {
        "id": "aqsN-ZB40_4a"
      },
      "execution_count": 56,
      "outputs": []
    },
    {
      "cell_type": "code",
      "source": [
        "model = Perceptron(input_dim=10)\n",
        "torchsummary.summary(model, (10,))"
      ],
      "metadata": {
        "colab": {
          "base_uri": "https://localhost:8080/"
        },
        "id": "mLfzQIng1HVN",
        "outputId": "e7c6ae16-f0af-4f62-9a5c-3ccfd50845fa"
      },
      "execution_count": 57,
      "outputs": [
        {
          "output_type": "stream",
          "name": "stdout",
          "text": [
            "----------------------------------------------------------------\n",
            "        Layer (type)               Output Shape         Param #\n",
            "================================================================\n",
            "            Linear-1                    [-1, 1]              11\n",
            "================================================================\n",
            "Total params: 11\n",
            "Trainable params: 11\n",
            "Non-trainable params: 0\n",
            "----------------------------------------------------------------\n",
            "Input size (MB): 0.00\n",
            "Forward/backward pass size (MB): 0.00\n",
            "Params size (MB): 0.00\n",
            "Estimated Total Size (MB): 0.00\n",
            "----------------------------------------------------------------\n"
          ]
        }
      ]
    },
    {
      "cell_type": "code",
      "source": [
        "model"
      ],
      "metadata": {
        "id": "TeXOqsanZSZr",
        "outputId": "938677a2-764c-4ddf-ba9a-62e87cbf668c",
        "colab": {
          "base_uri": "https://localhost:8080/"
        }
      },
      "execution_count": 58,
      "outputs": [
        {
          "output_type": "execute_result",
          "data": {
            "text/plain": [
              "Perceptron(\n",
              "  (fc1): Linear(in_features=10, out_features=1, bias=True)\n",
              ")"
            ]
          },
          "metadata": {},
          "execution_count": 58
        }
      ]
    },
    {
      "cell_type": "markdown",
      "source": [
        "# Activation Functions"
      ],
      "metadata": {
        "id": "KQxxpO_f8XnR"
      }
    },
    {
      "cell_type": "markdown",
      "source": [
        "## Sigmoid\n",
        "\n",
        "$$\n",
        "f(\\mathbf x) = \\frac{1}{1+e^{- \\mathbf x}}\n",
        "$$"
      ],
      "metadata": {
        "id": "mmT-UUkj8bKn"
      }
    },
    {
      "cell_type": "code",
      "source": [
        "import matplotlib.pyplot as plt"
      ],
      "metadata": {
        "id": "wege4wd673uG"
      },
      "execution_count": 5,
      "outputs": []
    },
    {
      "cell_type": "code",
      "source": [
        "x = torch.arange(-5., 5., 0.1)\n",
        "y = torch.sigmoid(x)"
      ],
      "metadata": {
        "id": "a7dClJxO8z_5"
      },
      "execution_count": 6,
      "outputs": []
    },
    {
      "cell_type": "code",
      "source": [
        "plt.plot(x.numpy(), y.numpy())\n",
        "plt.show()"
      ],
      "metadata": {
        "colab": {
          "base_uri": "https://localhost:8080/",
          "height": 430
        },
        "id": "pRqTxcKe9LoU",
        "outputId": "ec9a3a40-e530-4103-9fc2-bb3bc44b1d45"
      },
      "execution_count": 7,
      "outputs": [
        {
          "output_type": "display_data",
          "data": {
            "text/plain": [
              "<Figure size 640x480 with 1 Axes>"
            ],
            "image/png": "[encoded data removed]"
          },
          "metadata": {}
        }
      ]
    },
    {
      "cell_type": "markdown",
      "source": [
        "## Tanh\n",
        "$$\n",
        "f(\\mathbf x) = \\tanh \\mathbf x = \\frac{e^{\\mathbf x} - e^{-\\mathbf x}}{e^{\\mathbf x} + e^{- \\mathbf x}}\n",
        "$$"
      ],
      "metadata": {
        "id": "OW9_9OHKX8GD"
      }
    },
    {
      "cell_type": "code",
      "source": [
        "x = torch.arange(-5., 5., 0.1)\n",
        "y = torch.tanh(x)"
      ],
      "metadata": {
        "id": "UXJGMOYO9Rcd"
      },
      "execution_count": 8,
      "outputs": []
    },
    {
      "cell_type": "code",
      "source": [
        "plt.plot(x.numpy(), y.numpy())\n",
        "plt.show()"
      ],
      "metadata": {
        "colab": {
          "base_uri": "https://localhost:8080/",
          "height": 430
        },
        "id": "qBH95AmYYeIs",
        "outputId": "65b00966-41ae-4cd3-c989-0d6e0fe8caaa"
      },
      "execution_count": 9,
      "outputs": [
        {
          "output_type": "display_data",
          "data": {
            "text/plain": [
              "<Figure size 640x480 with 1 Axes>"
            ],
            "image/png": "[encoded data removed]"
          },
          "metadata": {}
        }
      ]
    },
    {
      "cell_type": "markdown",
      "source": [
        "## ReLU\n",
        "\n",
        "$$\n",
        "f(\\mathbf x) = \\max(0,\\mathbf x)\n",
        "$$"
      ],
      "metadata": {
        "id": "SjouGalAYm-I"
      }
    },
    {
      "cell_type": "code",
      "source": [
        "relu = nn.ReLU()"
      ],
      "metadata": {
        "id": "WWNbje3jYfwI"
      },
      "execution_count": 10,
      "outputs": []
    },
    {
      "cell_type": "code",
      "source": [
        "x = torch.arange(-5., 5., 0.1)\n",
        "y = relu(x)"
      ],
      "metadata": {
        "id": "6tUehOVeY0Cv"
      },
      "execution_count": 11,
      "outputs": []
    },
    {
      "cell_type": "code",
      "source": [
        "plt.plot(x.numpy(), y.numpy())\n",
        "plt.show()"
      ],
      "metadata": {
        "colab": {
          "base_uri": "https://localhost:8080/",
          "height": 430
        },
        "id": "mPFpin7YY2je",
        "outputId": "edbec64a-31ad-4966-f9dc-5f412c5c2676"
      },
      "execution_count": 12,
      "outputs": [
        {
          "output_type": "display_data",
          "data": {
            "text/plain": [
              "<Figure size 640x480 with 1 Axes>"
            ],
            "image/png": "[encoded data removed]"
          },
          "metadata": {}
        }
      ]
    },
    {
      "cell_type": "markdown",
      "source": [
        "## Leaky ReLU and PReLU\n",
        "They are nearly identical, the only different is the parameter in PReLU is learnable, and in LeakyReLu is a fixed constant.\n",
        "\n",
        "$$f(\\mathbf x) = \\max(\\mathbf x, \\alpha \\mathbf x)$$"
      ],
      "metadata": {
        "id": "18-Bh1O_ZNux"
      }
    },
    {
      "cell_type": "code",
      "source": [
        "leaky_relu = nn.LeakyReLU(0.1)"
      ],
      "metadata": {
        "id": "NzQQjbIJY4Rz"
      },
      "execution_count": 13,
      "outputs": []
    },
    {
      "cell_type": "code",
      "source": [
        "x = torch.arange(-5., 5., 0.1)\n",
        "y = leaky_relu(x)"
      ],
      "metadata": {
        "id": "nE2TrAC3ac82"
      },
      "execution_count": 14,
      "outputs": []
    },
    {
      "cell_type": "code",
      "source": [
        "plt.plot(x.numpy(), y.numpy())\n",
        "plt.show()"
      ],
      "metadata": {
        "colab": {
          "base_uri": "https://localhost:8080/",
          "height": 430
        },
        "id": "_ObSDwzQajYM",
        "outputId": "9ee76b15-a876-406c-cab0-5e8334394a70"
      },
      "execution_count": 15,
      "outputs": [
        {
          "output_type": "display_data",
          "data": {
            "text/plain": [
              "<Figure size 640x480 with 1 Axes>"
            ],
            "image/png": "[encoded data removed]"
          },
          "metadata": {}
        }
      ]
    },
    {
      "cell_type": "markdown",
      "source": [
        "## Softmax\n",
        "\n",
        "$$\n",
        "\\text{softmax}(x_i) = \\frac{e^{x_i}}{\\sum_{j=1}^k e^{x_j}}\n",
        "$$"
      ],
      "metadata": {
        "id": "WUmhh2PLdzIZ"
      }
    },
    {
      "cell_type": "code",
      "source": [
        "x_input = torch.randn(1,3)\n",
        "y_output = torch.softmax(x_input, dim=1)"
      ],
      "metadata": {
        "id": "n_c2Ax4WalGe"
      },
      "execution_count": 16,
      "outputs": []
    },
    {
      "cell_type": "code",
      "source": [
        "x_input"
      ],
      "metadata": {
        "colab": {
          "base_uri": "https://localhost:8080/"
        },
        "id": "tgudFO3YeU9E",
        "outputId": "b56d0037-a2d7-4a0e-f836-99af26085fdd"
      },
      "execution_count": 17,
      "outputs": [
        {
          "output_type": "execute_result",
          "data": {
            "text/plain": [
              "tensor([[-0.9540, -1.5467, -0.4879]])"
            ]
          },
          "metadata": {},
          "execution_count": 17
        }
      ]
    },
    {
      "cell_type": "code",
      "source": [
        "y_output"
      ],
      "metadata": {
        "colab": {
          "base_uri": "https://localhost:8080/"
        },
        "id": "tLBeiBiteWaJ",
        "outputId": "bc48d8a9-4f3e-4a0a-cf15-416ad05eae5a"
      },
      "execution_count": 18,
      "outputs": [
        {
          "output_type": "execute_result",
          "data": {
            "text/plain": [
              "tensor([[0.3178, 0.1757, 0.5065]])"
            ]
          },
          "metadata": {},
          "execution_count": 18
        }
      ]
    },
    {
      "cell_type": "code",
      "source": [
        "torch.sum(y_output, dim=1)"
      ],
      "metadata": {
        "colab": {
          "base_uri": "https://localhost:8080/"
        },
        "id": "Q8uKTmjFeXU3",
        "outputId": "960c8547-0791-4b96-9c83-e011d17a345f"
      },
      "execution_count": 19,
      "outputs": [
        {
          "output_type": "execute_result",
          "data": {
            "text/plain": [
              "tensor([1.])"
            ]
          },
          "metadata": {},
          "execution_count": 19
        }
      ]
    },
    {
      "cell_type": "markdown",
      "source": [
        "# Loss functions"
      ],
      "metadata": {
        "id": "BiP_yVboDKTF"
      }
    },
    {
      "cell_type": "markdown",
      "source": [
        "## Mean Squared Error Loss\n",
        "\n",
        "$$\n",
        "L_{MSE}(\\mathbf y, \\hat{\\mathbf y}) = \\frac 1 n \\sum_{i=1}^n (\\mathbf y - \\hat{\\mathbf y})^2\n",
        "$$"
      ],
      "metadata": {
        "id": "wFvdFovmDSfD"
      }
    },
    {
      "cell_type": "code",
      "source": [
        "mse_loss = nn.MSELoss()"
      ],
      "metadata": {
        "id": "faaXETdNebRd"
      },
      "execution_count": 21,
      "outputs": []
    },
    {
      "cell_type": "code",
      "source": [
        "outputs = torch.randn(3,5)\n",
        "targets = torch.randn(3,5)"
      ],
      "metadata": {
        "id": "dEfyv0TfDzHd"
      },
      "execution_count": 29,
      "outputs": []
    },
    {
      "cell_type": "code",
      "source": [
        "loss = mse_loss(outputs, targets)"
      ],
      "metadata": {
        "id": "Mx4xoZVAEHmd"
      },
      "execution_count": 30,
      "outputs": []
    },
    {
      "cell_type": "code",
      "source": [
        "loss"
      ],
      "metadata": {
        "colab": {
          "base_uri": "https://localhost:8080/"
        },
        "id": "18lpTrg7ELzC",
        "outputId": "5049c64e-cdf5-4b86-d8ca-b677970ad81b"
      },
      "execution_count": 31,
      "outputs": [
        {
          "output_type": "execute_result",
          "data": {
            "text/plain": [
              "tensor(2.7850)"
            ]
          },
          "metadata": {},
          "execution_count": 31
        }
      ]
    },
    {
      "cell_type": "markdown",
      "source": [
        "## Categorical Cross-Entropy Loss\n",
        "\n",
        "$$\n",
        "L_{cross\\_entropy}(\\mathbf y, \\hat{\\mathbf y}) = - \\sum_{i} y_i \\cdot \\log (\\hat {\\mathbf y_i})\n",
        "$$"
      ],
      "metadata": {
        "id": "G276cRh1Gn_e"
      }
    },
    {
      "cell_type": "code",
      "source": [
        "ce_loss = nn.CrossEntropyLoss()"
      ],
      "metadata": {
        "id": "JFlbibScEOff"
      },
      "execution_count": 32,
      "outputs": []
    },
    {
      "cell_type": "code",
      "source": [
        "outputs = torch.randn(3, 5)\n",
        "targets = torch.tensor([1, 0, 3], dtype=torch.int64)"
      ],
      "metadata": {
        "id": "QgHht_VXKLLD"
      },
      "execution_count": 40,
      "outputs": []
    },
    {
      "cell_type": "code",
      "source": [
        "loss = ce_loss(outputs, targets)"
      ],
      "metadata": {
        "id": "4RH-M5eUKaS3"
      },
      "execution_count": 41,
      "outputs": []
    },
    {
      "cell_type": "code",
      "source": [
        "outputs"
      ],
      "metadata": {
        "colab": {
          "base_uri": "https://localhost:8080/"
        },
        "id": "OzLR7S7wKdfD",
        "outputId": "2cd29b71-8559-4858-8a6d-5080254e0997"
      },
      "execution_count": 42,
      "outputs": [
        {
          "output_type": "execute_result",
          "data": {
            "text/plain": [
              "tensor([[-0.7368,  0.5060,  0.0650,  1.3924,  0.2427],\n",
              "        [ 0.7735,  1.6091,  0.8430,  0.9573,  0.0342],\n",
              "        [-1.2542,  1.7143,  0.7979, -0.1723, -2.5451]])"
            ]
          },
          "metadata": {},
          "execution_count": 42
        }
      ]
    },
    {
      "cell_type": "code",
      "source": [
        "loss"
      ],
      "metadata": {
        "colab": {
          "base_uri": "https://localhost:8080/"
        },
        "id": "ulENSsyLKcE4",
        "outputId": "b9bb4632-5d67-4432-b5a7-6c0c3a2fba44"
      },
      "execution_count": 43,
      "outputs": [
        {
          "output_type": "execute_result",
          "data": {
            "text/plain": [
              "tensor(1.9343)"
            ]
          },
          "metadata": {},
          "execution_count": 43
        }
      ]
    },
    {
      "cell_type": "markdown",
      "source": [
        "## Binary cross-entropy loss"
      ],
      "metadata": {
        "id": "KjGuv7eCLZ4u"
      }
    },
    {
      "cell_type": "code",
      "source": [
        "bce_loss = nn.BCELoss()\n",
        "sigmoid = nn.Sigmoid()"
      ],
      "metadata": {
        "id": "DLKi2wCRKcjE"
      },
      "execution_count": 44,
      "outputs": []
    },
    {
      "cell_type": "code",
      "source": [
        "probabilities = sigmoid(torch.randn(4,1))\n",
        "targets = torch.tensor([1,0,1,0], dtype=torch.float32).view(4,1)"
      ],
      "metadata": {
        "id": "d4EGCva-LjfZ"
      },
      "execution_count": 45,
      "outputs": []
    },
    {
      "cell_type": "code",
      "source": [
        "loss = bce_loss(probabilities, targets)"
      ],
      "metadata": {
        "id": "S7Xkdz9SXwRK"
      },
      "execution_count": 49,
      "outputs": []
    },
    {
      "cell_type": "code",
      "source": [
        "loss"
      ],
      "metadata": {
        "colab": {
          "base_uri": "https://localhost:8080/"
        },
        "id": "Qx-YwpjPXyla",
        "outputId": "e35b138e-1b73-47e2-ceb3-49b7af0c8d98"
      },
      "execution_count": 50,
      "outputs": [
        {
          "output_type": "execute_result",
          "data": {
            "text/plain": [
              "tensor(0.6406)"
            ]
          },
          "metadata": {},
          "execution_count": 50
        }
      ]
    },
    {
      "cell_type": "code",
      "source": [
        "probabilities"
      ],
      "metadata": {
        "colab": {
          "base_uri": "https://localhost:8080/"
        },
        "id": "VYpcl_ceYC6s",
        "outputId": "c5c20693-92bf-4670-b378-338eb087fa0d"
      },
      "execution_count": 51,
      "outputs": [
        {
          "output_type": "execute_result",
          "data": {
            "text/plain": [
              "tensor([[0.8181],\n",
              "        [0.3721],\n",
              "        [0.4137],\n",
              "        [0.6370]])"
            ]
          },
          "metadata": {},
          "execution_count": 51
        }
      ]
    },
    {
      "cell_type": "code",
      "source": [],
      "metadata": {
        "id": "sAyDk_5HYGWl"
      },
      "execution_count": null,
      "outputs": []
    }
  ]
}